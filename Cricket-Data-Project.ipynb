{
 "cells": [
  {
   "cell_type": "code",
   "execution_count": 19,
   "id": "50cec6ea",
   "metadata": {},
   "outputs": [],
   "source": [
    "import pandas as pd\n"
   ]
  },
  {
   "cell_type": "code",
   "execution_count": 20,
   "id": "f9559544",
   "metadata": {},
   "outputs": [],
   "source": [
    "data = pd.read_excel(\"Book1.xlsx\")"
   ]
  },
  {
   "cell_type": "code",
   "execution_count": 21,
   "id": "348e84bb",
   "metadata": {},
   "outputs": [
    {
     "name": "stdout",
     "output_type": "stream",
     "text": [
      "Enter the careerODI\n"
     ]
    }
   ],
   "source": [
    "name = input(\"Enter the career\")"
   ]
  },
  {
   "cell_type": "code",
   "execution_count": 22,
   "id": "770bc55e",
   "metadata": {},
   "outputs": [],
   "source": [
    "def match_finder(data,name):\n",
    "    data_1 = data[data.Carers==name]\n",
    "    return(data_1)\n",
    "    "
   ]
  },
  {
   "cell_type": "code",
   "execution_count": 23,
   "id": "28aa9e65",
   "metadata": {},
   "outputs": [],
   "source": [
    "final_data = match_finder(data,name)"
   ]
  },
  {
   "cell_type": "code",
   "execution_count": 24,
   "id": "6a49137e",
   "metadata": {},
   "outputs": [],
   "source": [
    "final_data.to_excel(\"Results.xlsx\")"
   ]
  },
  {
   "cell_type": "code",
   "execution_count": null,
   "id": "783f453a",
   "metadata": {},
   "outputs": [],
   "source": []
  }
 ],
 "metadata": {
  "kernelspec": {
   "display_name": "Python 3 (ipykernel)",
   "language": "python",
   "name": "python3"
  },
  "language_info": {
   "codemirror_mode": {
    "name": "ipython",
    "version": 3
   },
   "file_extension": ".py",
   "mimetype": "text/x-python",
   "name": "python",
   "nbconvert_exporter": "python",
   "pygments_lexer": "ipython3",
   "version": "3.10.8"
  }
 },
 "nbformat": 4,
 "nbformat_minor": 5
}
