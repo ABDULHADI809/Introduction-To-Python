{
 "cells": [
  {
   "cell_type": "markdown",
   "id": "bad7713d",
   "metadata": {},
   "source": [
    "# Introduction To Python"
   ]
  },
  {
   "cell_type": "markdown",
   "id": "d417f0f0",
   "metadata": {},
   "source": [
    "## Questions"
   ]
  },
  {
   "cell_type": "markdown",
   "id": "cf311580",
   "metadata": {},
   "source": [
    "**What is a programming language?**"
   ]
  },
  {
   "cell_type": "markdown",
   "id": "a5a4241e",
   "metadata": {},
   "source": [
    "Programming language is used to communicate with the computer"
   ]
  },
  {
   "cell_type": "markdown",
   "id": "32879ae4",
   "metadata": {},
   "source": [
    "**What is an IDE?**"
   ]
  },
  {
   "cell_type": "markdown",
   "id": "4f2aea70",
   "metadata": {},
   "source": [
    "IDE stands for interactive development environment.It provides an environment to develop programs"
   ]
  },
  {
   "cell_type": "markdown",
   "id": "0f8eb28e",
   "metadata": {},
   "source": [
    "**What IDE we are using?**"
   ]
  },
  {
   "cell_type": "markdown",
   "id": "8292f4cc",
   "metadata": {},
   "source": [
    "We are using jupyter notebook"
   ]
  },
  {
   "cell_type": "markdown",
   "id": "63b101ee",
   "metadata": {},
   "source": [
    "**What is a compiler and interpriter?**"
   ]
  },
  {
   "cell_type": "markdown",
   "id": "e65f11ab",
   "metadata": {},
   "source": [
    "A compiler is a translator which translate the whole program at once and a interpriter is a translator which translate one line of code at once"
   ]
  },
  {
   "cell_type": "markdown",
   "id": "8b46d2b4",
   "metadata": {},
   "source": [
    "## My first code"
   ]
  },
  {
   "cell_type": "code",
   "execution_count": 1,
   "id": "3986a1a0",
   "metadata": {},
   "outputs": [
    {
     "name": "stdout",
     "output_type": "stream",
     "text": [
      "Hello World\n"
     ]
    }
   ],
   "source": [
    "print(\"Hello World\")"
   ]
  },
  {
   "cell_type": "markdown",
   "id": "158516d7",
   "metadata": {},
   "source": [
    "# Different types of Data type"
   ]
  },
  {
   "cell_type": "markdown",
   "id": "aa2941dd",
   "metadata": {},
   "source": [
    "**What are data types?**"
   ]
  },
  {
   "cell_type": "markdown",
   "id": "2eb397c7",
   "metadata": {},
   "source": [
    "Data types are the catagories of knowledge"
   ]
  },
  {
   "cell_type": "markdown",
   "id": "d88f1e85",
   "metadata": {},
   "source": [
    "**What is knowledge?**"
   ]
  },
  {
   "cell_type": "markdown",
   "id": "15e0c530",
   "metadata": {},
   "source": [
    "Data input to the computer is knowledge for it.And it divides it into different catagories"
   ]
  },
  {
   "cell_type": "markdown",
   "id": "8b870962",
   "metadata": {},
   "source": [
    "**Name the Data type in Python?**"
   ]
  },
  {
   "cell_type": "markdown",
   "id": "64564cd1",
   "metadata": {},
   "source": [
    "Int,Float\n",
    "\n",
    "Str\n",
    "\n",
    "List,tuple\n",
    "\n",
    "dict\n",
    "\n",
    "bool\n"
   ]
  },
  {
   "cell_type": "markdown",
   "id": "6de7f01f",
   "metadata": {},
   "source": [
    "# Shortcut Keys"
   ]
  },
  {
   "cell_type": "markdown",
   "id": "3be5fd1e",
   "metadata": {},
   "source": [
    ". **Shortcut for Markdown is esc+m**\n",
    "\n",
    ". **Shortcut for Code is esc+y**\n",
    "\n",
    ".**Shortcut for finding specific code**"
   ]
  },
  {
   "cell_type": "markdown",
   "id": "e159c057",
   "metadata": {},
   "source": [
    "# ARITHEMETIC OPERATIONS"
   ]
  },
  {
   "cell_type": "code",
   "execution_count": 2,
   "id": "1662df34",
   "metadata": {},
   "outputs": [
    {
     "data": {
      "text/plain": [
       "4"
      ]
     },
     "execution_count": 2,
     "metadata": {},
     "output_type": "execute_result"
    }
   ],
   "source": [
    "# SUM\n",
    "2+2"
   ]
  },
  {
   "cell_type": "code",
   "execution_count": 3,
   "id": "600d55a5",
   "metadata": {},
   "outputs": [
    {
     "data": {
      "text/plain": [
       "2"
      ]
     },
     "execution_count": 3,
     "metadata": {},
     "output_type": "execute_result"
    }
   ],
   "source": [
    "# SUBTRACTION\n",
    "4-2"
   ]
  },
  {
   "cell_type": "code",
   "execution_count": 4,
   "id": "2d69b0a3",
   "metadata": {},
   "outputs": [
    {
     "data": {
      "text/plain": [
       "4"
      ]
     },
     "execution_count": 4,
     "metadata": {},
     "output_type": "execute_result"
    }
   ],
   "source": [
    "# Multiplication\n",
    "2*2"
   ]
  },
  {
   "cell_type": "code",
   "execution_count": 5,
   "id": "b9f11547",
   "metadata": {},
   "outputs": [
    {
     "data": {
      "text/plain": [
       "2.0"
      ]
     },
     "execution_count": 5,
     "metadata": {},
     "output_type": "execute_result"
    }
   ],
   "source": [
    "# Divisions\n",
    "4/2"
   ]
  },
  {
   "cell_type": "code",
   "execution_count": 6,
   "id": "69e03ecf",
   "metadata": {},
   "outputs": [
    {
     "data": {
      "text/plain": [
       "6"
      ]
     },
     "execution_count": 6,
     "metadata": {},
     "output_type": "execute_result"
    }
   ],
   "source": [
    "# Floor Division\n",
    "13//2"
   ]
  },
  {
   "cell_type": "code",
   "execution_count": 7,
   "id": "44b9b072",
   "metadata": {},
   "outputs": [
    {
     "data": {
      "text/plain": [
       "1"
      ]
     },
     "execution_count": 7,
     "metadata": {},
     "output_type": "execute_result"
    }
   ],
   "source": [
    "# REMAINDER\n",
    "13%2"
   ]
  },
  {
   "cell_type": "code",
   "execution_count": 8,
   "id": "6cc32372",
   "metadata": {},
   "outputs": [
    {
     "data": {
      "text/plain": [
       "25"
      ]
     },
     "execution_count": 8,
     "metadata": {},
     "output_type": "execute_result"
    }
   ],
   "source": [
    "# EXPONENT\n",
    "5**2"
   ]
  },
  {
   "cell_type": "markdown",
   "id": "6191683c",
   "metadata": {},
   "source": [
    "## COMMENTS"
   ]
  },
  {
   "cell_type": "code",
   "execution_count": 9,
   "id": "40f34d83",
   "metadata": {},
   "outputs": [
    {
     "data": {
      "text/plain": [
       "'\\nyou need to use three comas\\nthis way you can add multiple lines of comments \\nthese are also used to docstring in function\\n'"
      ]
     },
     "execution_count": 9,
     "metadata": {},
     "output_type": "execute_result"
    }
   ],
   "source": [
    "#hash is used to add comments\n",
    "# but it wont add multiple peras of comment if you want to add multiples\n",
    "\"\"\"\n",
    "you need to use three comas\n",
    "this way you can add multiple lines of comments \n",
    "these are also used to docstring in function\n",
    "\"\"\""
   ]
  },
  {
   "cell_type": "markdown",
   "id": "f84f6847",
   "metadata": {},
   "source": [
    "## VARIABLES"
   ]
  },
  {
   "cell_type": "code",
   "execution_count": 10,
   "id": "8f7b423b",
   "metadata": {},
   "outputs": [],
   "source": [
    "student_name=\"Hadi\""
   ]
  },
  {
   "cell_type": "markdown",
   "id": "1d86cdb2",
   "metadata": {},
   "source": [
    "**=** is assignment operator"
   ]
  },
  {
   "cell_type": "code",
   "execution_count": 11,
   "id": "195d2cdd",
   "metadata": {},
   "outputs": [
    {
     "data": {
      "text/plain": [
       "'Hadi'"
      ]
     },
     "execution_count": 11,
     "metadata": {},
     "output_type": "execute_result"
    }
   ],
   "source": [
    "student_name"
   ]
  },
  {
   "cell_type": "markdown",
   "id": "1a42beb6",
   "metadata": {},
   "source": [
    "**What is a Student name?**"
   ]
  },
  {
   "cell_type": "markdown",
   "id": "a801e7d7",
   "metadata": {},
   "source": [
    "Student name is a variable pointing towards hadi"
   ]
  },
  {
   "cell_type": "markdown",
   "id": "4a2e6eae",
   "metadata": {},
   "source": [
    "## FUNCTION"
   ]
  },
  {
   "cell_type": "markdown",
   "id": "b9677452",
   "metadata": {},
   "source": [
    "Function is a code that execute a specific task and does it well|"
   ]
  },
  {
   "cell_type": "markdown",
   "id": "062f9fba",
   "metadata": {},
   "source": [
    "## PRINT FUNCTION"
   ]
  },
  {
   "cell_type": "markdown",
   "id": "19405535",
   "metadata": {},
   "source": [
    "Now we are going to use print function to print multiple variables at a time"
   ]
  },
  {
   "cell_type": "code",
   "execution_count": 12,
   "id": "36ac65e5",
   "metadata": {},
   "outputs": [
    {
     "name": "stdout",
     "output_type": "stream",
     "text": [
      "Hello World\n"
     ]
    }
   ],
   "source": [
    "print(\"Hello World\")"
   ]
  },
  {
   "cell_type": "code",
   "execution_count": 86,
   "id": "b0bb1711",
   "metadata": {},
   "outputs": [
    {
     "name": "stdout",
     "output_type": "stream",
     "text": [
      "hadi 14 2008\n"
     ]
    }
   ],
   "source": [
    "# Initating variables\n",
    "student_name=\"hadi\"\n",
    "age=\"14\"\n",
    "year=\"2008\"\n",
    "# print the variable together\n",
    "print(student_name,age,year)"
   ]
  },
  {
   "cell_type": "markdown",
   "id": "5b26ca65",
   "metadata": {},
   "source": [
    "print is a function and input to it are argument"
   ]
  },
  {
   "cell_type": "markdown",
   "id": "9d99afe2",
   "metadata": {},
   "source": [
    "# Using Sep Argument"
   ]
  },
  {
   "cell_type": "code",
   "execution_count": 88,
   "id": "1c88dcca",
   "metadata": {},
   "outputs": [
    {
     "name": "stdout",
     "output_type": "stream",
     "text": [
      "hadi age is 14\n"
     ]
    }
   ],
   "source": [
    "print(student_name,age,sep=\" age is \")"
   ]
  },
  {
   "cell_type": "markdown",
   "id": "986e3973",
   "metadata": {},
   "source": [
    "## USING END ARGUEMENT"
   ]
  },
  {
   "cell_type": "code",
   "execution_count": 15,
   "id": "2e010c99",
   "metadata": {},
   "outputs": [
    {
     "name": "stdout",
     "output_type": "stream",
     "text": [
      "hadi\n",
      "14\n",
      "2008\n"
     ]
    }
   ],
   "source": [
    "# Without end arguement\n",
    "print(student_name)\n",
    "print(age)\n",
    "print(year)"
   ]
  },
  {
   "cell_type": "code",
   "execution_count": 90,
   "id": "ada03af7",
   "metadata": {},
   "outputs": [
    {
     "name": "stdout",
     "output_type": "stream",
     "text": [
      "hadi------ 14----------2008\n"
     ]
    }
   ],
   "source": [
    "# with end arguement\n",
    "print(student_name,end=\"------ \")\n",
    "print(age,end=\"----------\")\n",
    "print(year)"
   ]
  },
  {
   "cell_type": "markdown",
   "id": "7a6e2b09",
   "metadata": {},
   "source": [
    "# Help()"
   ]
  },
  {
   "cell_type": "code",
   "execution_count": 17,
   "id": "5c96cf0b",
   "metadata": {},
   "outputs": [
    {
     "name": "stdout",
     "output_type": "stream",
     "text": [
      "Help on built-in function print in module builtins:\n",
      "\n",
      "print(...)\n",
      "    print(value, ..., sep=' ', end='\\n', file=sys.stdout, flush=False)\n",
      "    \n",
      "    Prints the values to a stream, or to sys.stdout by default.\n",
      "    Optional keyword arguments:\n",
      "    file:  a file-like object (stream); defaults to the current sys.stdout.\n",
      "    sep:   string inserted between values, default a space.\n",
      "    end:   string appended after the last value, default a newline.\n",
      "    flush: whether to forcibly flush the stream.\n",
      "\n"
     ]
    }
   ],
   "source": [
    "help(print)"
   ]
  },
  {
   "cell_type": "code",
   "execution_count": 18,
   "id": "1b3c740a",
   "metadata": {},
   "outputs": [],
   "source": [
    "def sum_1(a,b):\n",
    "    \"\"\"\n",
    "    It takes two numbers and return their sum\n",
    "    \n",
    "    \"\"\"\n",
    "    return(a+b)"
   ]
  },
  {
   "cell_type": "code",
   "execution_count": 19,
   "id": "5abe8344",
   "metadata": {},
   "outputs": [],
   "source": [
    "?sum_1"
   ]
  },
  {
   "cell_type": "markdown",
   "id": "14895ffc",
   "metadata": {},
   "source": [
    "# Time magic function"
   ]
  },
  {
   "cell_type": "code",
   "execution_count": 20,
   "id": "71f3d561",
   "metadata": {},
   "outputs": [
    {
     "name": "stdout",
     "output_type": "stream",
     "text": [
      "CPU times: total: 0 ns\n",
      "Wall time: 0 ns\n",
      "Hellooo\n"
     ]
    }
   ],
   "source": [
    "%time\n",
    "print(\"Hellooo\")"
   ]
  },
  {
   "cell_type": "code",
   "execution_count": 21,
   "id": "41adac74",
   "metadata": {},
   "outputs": [],
   "source": [
    "# %time for i in range(1000): print(\"bla bla\")"
   ]
  },
  {
   "cell_type": "markdown",
   "id": "842107fc",
   "metadata": {},
   "source": [
    "# VARIABLES"
   ]
  },
  {
   "cell_type": "code",
   "execution_count": 22,
   "id": "b4df8810",
   "metadata": {},
   "outputs": [],
   "source": [
    "student_name=\"hadi\""
   ]
  },
  {
   "cell_type": "markdown",
   "id": "8fe13892",
   "metadata": {},
   "source": [
    "## Checking the memory location/id"
   ]
  },
  {
   "cell_type": "code",
   "execution_count": 23,
   "id": "166fcc0e",
   "metadata": {},
   "outputs": [
    {
     "data": {
      "text/plain": [
       "2020739033520"
      ]
     },
     "execution_count": 23,
     "metadata": {},
     "output_type": "execute_result"
    }
   ],
   "source": [
    "id(student_name)"
   ]
  },
  {
   "cell_type": "code",
   "execution_count": 24,
   "id": "6f510871",
   "metadata": {},
   "outputs": [],
   "source": [
    "student=\"hadi\""
   ]
  },
  {
   "cell_type": "code",
   "execution_count": 25,
   "id": "93597f85",
   "metadata": {},
   "outputs": [
    {
     "data": {
      "text/plain": [
       "2020739033520"
      ]
     },
     "execution_count": 25,
     "metadata": {},
     "output_type": "execute_result"
    }
   ],
   "source": [
    "id(student)"
   ]
  },
  {
   "cell_type": "code",
   "execution_count": 26,
   "id": "8f4cae08",
   "metadata": {},
   "outputs": [],
   "source": [
    "sjh=\"hadi\""
   ]
  },
  {
   "cell_type": "code",
   "execution_count": 27,
   "id": "7c8c3e53",
   "metadata": {},
   "outputs": [
    {
     "data": {
      "text/plain": [
       "2020739033520"
      ]
     },
     "execution_count": 27,
     "metadata": {},
     "output_type": "execute_result"
    }
   ],
   "source": [
    "id(sjh)"
   ]
  },
  {
   "cell_type": "markdown",
   "id": "2713bf89",
   "metadata": {},
   "source": [
    "## Using Del Function"
   ]
  },
  {
   "cell_type": "code",
   "execution_count": 28,
   "id": "dcaf89bc",
   "metadata": {},
   "outputs": [],
   "source": [
    "del(sjh)"
   ]
  },
  {
   "cell_type": "code",
   "execution_count": 29,
   "id": "ad3e54ad",
   "metadata": {},
   "outputs": [],
   "source": [
    "#sjh"
   ]
  },
  {
   "cell_type": "markdown",
   "id": "f618b5dc",
   "metadata": {},
   "source": [
    "# Numbers"
   ]
  },
  {
   "cell_type": "markdown",
   "id": "e6033034",
   "metadata": {},
   "source": [
    "## Complex numbers"
   ]
  },
  {
   "cell_type": "markdown",
   "id": "4c5bfb9c",
   "metadata": {},
   "source": [
    "**Complex numbers have real and imaginary parts**"
   ]
  },
  {
   "cell_type": "code",
   "execution_count": 30,
   "id": "618179a3",
   "metadata": {},
   "outputs": [],
   "source": [
    "# Initializing variables\n",
    "a = 1\n",
    "b = 2.3\n",
    "c = True\n",
    "d = complex(2,3)\n",
    "d = 2+3j"
   ]
  },
  {
   "cell_type": "markdown",
   "id": "d7439200",
   "metadata": {},
   "source": [
    "## Type functions"
   ]
  },
  {
   "cell_type": "code",
   "execution_count": 31,
   "id": "944c300f",
   "metadata": {},
   "outputs": [
    {
     "data": {
      "text/plain": [
       "int"
      ]
     },
     "execution_count": 31,
     "metadata": {},
     "output_type": "execute_result"
    }
   ],
   "source": [
    "type(a)"
   ]
  },
  {
   "cell_type": "code",
   "execution_count": 32,
   "id": "92567a96",
   "metadata": {},
   "outputs": [
    {
     "data": {
      "text/plain": [
       "float"
      ]
     },
     "execution_count": 32,
     "metadata": {},
     "output_type": "execute_result"
    }
   ],
   "source": [
    "type(b)"
   ]
  },
  {
   "cell_type": "code",
   "execution_count": 33,
   "id": "0aa724f8",
   "metadata": {},
   "outputs": [
    {
     "data": {
      "text/plain": [
       "(bool, complex)"
      ]
     },
     "execution_count": 33,
     "metadata": {},
     "output_type": "execute_result"
    }
   ],
   "source": [
    "type(c),type(d)"
   ]
  },
  {
   "cell_type": "code",
   "execution_count": 34,
   "id": "72ccc51e",
   "metadata": {},
   "outputs": [
    {
     "name": "stdout",
     "output_type": "stream",
     "text": [
      "<class 'int'> -- <class 'float'> -- <class 'bool'> -- <class 'complex'>\n"
     ]
    }
   ],
   "source": [
    "print(type(a),type(b),type(c),type(d), sep=\" -- \")"
   ]
  },
  {
   "cell_type": "markdown",
   "id": "91308d1d",
   "metadata": {},
   "source": [
    "# Operators"
   ]
  },
  {
   "cell_type": "markdown",
   "id": "1be252dd",
   "metadata": {},
   "source": [
    "![](s.png)"
   ]
  },
  {
   "cell_type": "markdown",
   "id": "622efcbd",
   "metadata": {},
   "source": [
    "## 1) = \"Assignment operator\""
   ]
  },
  {
   "cell_type": "markdown",
   "id": "7c4283ab",
   "metadata": {},
   "source": [
    "**It is used to assign a value to a variable**"
   ]
  },
  {
   "cell_type": "code",
   "execution_count": 35,
   "id": "61e7a7b3",
   "metadata": {},
   "outputs": [],
   "source": [
    "hadi =\"hadi\""
   ]
  },
  {
   "cell_type": "markdown",
   "id": "e8b623ec",
   "metadata": {},
   "source": [
    "**here assign operator is used to assign a string \"hadi\" to \"hadi\"**"
   ]
  },
  {
   "cell_type": "markdown",
   "id": "0638abdf",
   "metadata": {},
   "source": [
    "## Logical operator"
   ]
  },
  {
   "cell_type": "markdown",
   "id": "24578b20",
   "metadata": {},
   "source": [
    "**These operators are used to ,ale decisions based on logic**"
   ]
  },
  {
   "cell_type": "markdown",
   "id": "8f5358f0",
   "metadata": {},
   "source": [
    "### 1) Greater Than>"
   ]
  },
  {
   "cell_type": "code",
   "execution_count": 36,
   "id": "6036e0ab",
   "metadata": {},
   "outputs": [],
   "source": [
    "a = 5 \n",
    "b = 3"
   ]
  },
  {
   "cell_type": "code",
   "execution_count": 37,
   "id": "4637f43a",
   "metadata": {},
   "outputs": [
    {
     "data": {
      "text/plain": [
       "True"
      ]
     },
     "execution_count": 37,
     "metadata": {},
     "output_type": "execute_result"
    }
   ],
   "source": [
    "a>b"
   ]
  },
  {
   "cell_type": "code",
   "execution_count": 38,
   "id": "e55302e1",
   "metadata": {},
   "outputs": [
    {
     "data": {
      "text/plain": [
       "False"
      ]
     },
     "execution_count": 38,
     "metadata": {},
     "output_type": "execute_result"
    }
   ],
   "source": [
    "b>a"
   ]
  },
  {
   "cell_type": "markdown",
   "id": "4b6d2b3f",
   "metadata": {},
   "source": [
    "### 2) Less Than<"
   ]
  },
  {
   "cell_type": "code",
   "execution_count": 39,
   "id": "079e24bd",
   "metadata": {},
   "outputs": [],
   "source": [
    "raheem = 20\n",
    "ali = 10"
   ]
  },
  {
   "cell_type": "code",
   "execution_count": 40,
   "id": "a6e72c7f",
   "metadata": {},
   "outputs": [
    {
     "name": "stdout",
     "output_type": "stream",
     "text": [
      "Ali is older than Raheem: False\n"
     ]
    }
   ],
   "source": [
    "print(f\"Ali is older than Raheem: {raheem<ali}\")"
   ]
  },
  {
   "cell_type": "markdown",
   "id": "81901317",
   "metadata": {},
   "source": [
    "**Above is the way of printing formaled string**"
   ]
  },
  {
   "cell_type": "markdown",
   "id": "3693a781",
   "metadata": {},
   "source": [
    "### 3)Greater than or equal to>="
   ]
  },
  {
   "cell_type": "markdown",
   "id": "e5c5a811",
   "metadata": {},
   "source": [
    "**greater than or equal to is evaluated true either if both are equal or one is greater than other**"
   ]
  },
  {
   "cell_type": "code",
   "execution_count": 41,
   "id": "c10c0705",
   "metadata": {},
   "outputs": [
    {
     "name": "stdout",
     "output_type": "stream",
     "text": [
      "Condition 1 : True\n",
      "Condition 2 : True\n",
      "Condition 3 : False\n"
     ]
    }
   ],
   "source": [
    "# Condition 1\n",
    "raheem = 20\n",
    "ali = 20\n",
    "print(f\"Condition 1 : {raheem >= ali}\")\n",
    "\n",
    "# Condition 2\n",
    "raheem = 20\n",
    "ali = 10\n",
    "print(f\"Condition 2 : {raheem>= ali}\")\n",
    "\n",
    "# Condition 3\n",
    "ali = 20\n",
    "raheem = 10\n",
    "print(f\"Condition 3 : {raheem>= ali}\")"
   ]
  },
  {
   "cell_type": "markdown",
   "id": "f07a6ef9",
   "metadata": {},
   "source": [
    "### Less than equal to<="
   ]
  },
  {
   "cell_type": "code",
   "execution_count": 42,
   "id": "43350a1d",
   "metadata": {},
   "outputs": [
    {
     "name": "stdout",
     "output_type": "stream",
     "text": [
      "Condition 1 : True\n",
      "Condition 2 : False\n",
      "condition 3 : True\n"
     ]
    }
   ],
   "source": [
    "# Condition 1\n",
    "raheem = 20\n",
    "ali = 20\n",
    "print(f\"Condition 1 : {raheem <= ali}\")\n",
    "\n",
    "# Condition 2\n",
    "raheen = 20\n",
    "ali = 10\n",
    "print(f\"Condition 2 : {raheem<= ali}\")\n",
    "\n",
    "# Condition 3\n",
    "ali = 20\n",
    "raheem = 10\n",
    "print(f\"condition 3 : {raheem<= ali}\")"
   ]
  },
  {
   "cell_type": "markdown",
   "id": "7e499da2",
   "metadata": {},
   "source": [
    "### Not equal !="
   ]
  },
  {
   "cell_type": "code",
   "execution_count": 43,
   "id": "1f805ea7",
   "metadata": {},
   "outputs": [
    {
     "name": "stdout",
     "output_type": "stream",
     "text": [
      " Ali and Raheem ages are not equal : True\n"
     ]
    }
   ],
   "source": [
    "Raheem = 20\n",
    "Ali = 10\n",
    "\n",
    "print(f\" Ali and Raheem ages are not equal : {Raheem != Ali}\")"
   ]
  },
  {
   "cell_type": "markdown",
   "id": "f61759aa",
   "metadata": {},
   "source": [
    "# Exercise"
   ]
  },
  {
   "cell_type": "code",
   "execution_count": 44,
   "id": "a20fbc28",
   "metadata": {},
   "outputs": [
    {
     "name": "stdout",
     "output_type": "stream",
     "text": [
      "Ali is smaller than Ajmal : True\n",
      "The greter one will be multiplied by 2 : 60\n"
     ]
    }
   ],
   "source": [
    "# Initiate two variables named Ali and Ajmal\n",
    "Ali = 20\n",
    "Ajmal = 30\n",
    "\n",
    "# Compare Both Variables to check whose age is greater\n",
    "print(f\"Ali is smaller than Ajmal : {Ali<= Ajmal}\")\n",
    "\n",
    "# The greater one should be multiplied by 2 and printed\n",
    "print(f\"The greter one will be multiplied by 2 : {Ajmal* 2}\")"
   ]
  },
  {
   "cell_type": "markdown",
   "id": "a4467e7b",
   "metadata": {},
   "source": [
    "### OR Logic operator"
   ]
  },
  {
   "cell_type": "code",
   "execution_count": 45,
   "id": "b7d7da54",
   "metadata": {},
   "outputs": [
    {
     "name": "stdout",
     "output_type": "stream",
     "text": [
      "Statement evaluates to : True\n",
      "Statement evaluates to : True\n"
     ]
    }
   ],
   "source": [
    "# Prints True if both the condition are met\n",
    "ali = 10\n",
    "hashim = 10\n",
    "\n",
    "print (f\"Statement evaluates to : {ali==hashim or ali==hashim}\")\n",
    "\n",
    "# Condition 2\n",
    "print(f\"Statement evaluates to : {ali==hashim or ali != hashim}\")"
   ]
  },
  {
   "cell_type": "markdown",
   "id": "961ec0af",
   "metadata": {},
   "source": [
    "### AND logical operator"
   ]
  },
  {
   "cell_type": "code",
   "execution_count": 46,
   "id": "97001fe3",
   "metadata": {},
   "outputs": [
    {
     "name": "stdout",
     "output_type": "stream",
     "text": [
      "Statement evaluates to : True\n",
      "Statement evaluates to : False\n"
     ]
    }
   ],
   "source": [
    "ali = 10\n",
    "hashim = 10\n",
    "# Condition 1\n",
    "print(f\"Statement evaluates to : {ali == hashim and ali == hashim}\")\n",
    "\n",
    "# Condition 2 \n",
    "print(f\"Statement evaluates to : {ali == hashim and ali != hashim}\")"
   ]
  },
  {
   "cell_type": "markdown",
   "id": "cc057568",
   "metadata": {},
   "source": [
    "### Not logical Operatoe"
   ]
  },
  {
   "cell_type": "code",
   "execution_count": 47,
   "id": "60a28906",
   "metadata": {},
   "outputs": [
    {
     "name": "stdout",
     "output_type": "stream",
     "text": [
      "Statement evaluate to : True\n",
      "Statement evaluate to : False\n"
     ]
    }
   ],
   "source": [
    "ali = 10\n",
    "hashim = 10\n",
    "# Condition 1\n",
    "print (f\"Statement evaluate to : {not (hashim != ali)}\")\n",
    "print(f\"Statement evaluate to : {not (hashim == ali)}\")"
   ]
  },
  {
   "cell_type": "markdown",
   "id": "6920aea8",
   "metadata": {},
   "source": [
    "# String"
   ]
  },
  {
   "cell_type": "markdown",
   "id": "84b29928",
   "metadata": {},
   "source": [
    "**What is string?**"
   ]
  },
  {
   "cell_type": "markdown",
   "id": "d0c26583",
   "metadata": {},
   "source": [
    "**String is a collection of characters**"
   ]
  },
  {
   "cell_type": "code",
   "execution_count": 48,
   "id": "a5cb4e65",
   "metadata": {},
   "outputs": [
    {
     "name": "stdout",
     "output_type": "stream",
     "text": [
      " Data type : <class 'str'> \n",
      " Numbers of Characters : 17\n"
     ]
    }
   ],
   "source": [
    "# Initiate a variable with string as input\n",
    "\n",
    "Ali = \"Hi my name is Ali\"\n",
    "\n",
    "print(f\" Data type : {type(Ali)} \\n Numbers of Characters : {len(Ali)}\")"
   ]
  },
  {
   "cell_type": "code",
   "execution_count": 49,
   "id": "04014770",
   "metadata": {},
   "outputs": [
    {
     "name": "stdout",
     "output_type": "stream",
     "text": [
      "Character at Position \" position \" is : \n"
     ]
    }
   ],
   "source": [
    "# String Indexing\n",
    "\n",
    "position = 5\n",
    "print(f\"Character at Position \\\" position \\\" is :{Ali[position]}\")"
   ]
  },
  {
   "cell_type": "code",
   "execution_count": 50,
   "id": "1ed70415",
   "metadata": {},
   "outputs": [
    {
     "name": "stdout",
     "output_type": "stream",
     "text": [
      "Data type : <class 'str'> \n",
      " Numbers of Character : 19\n",
      "Character at Position \" position\" is : n\n"
     ]
    }
   ],
   "source": [
    "# Initiate a variable string as input \n",
    "\n",
    "Ahmad = \"Hi my name is Ahmad\"\n",
    "\n",
    "print(f\"Data type : {type(Ahmad)} \\n Numbers of Character : {len(Ahmad)}\")\n",
    "\n",
    "# String Indexing\n",
    "\n",
    "position = 6\n",
    "print(f\"Character at Position \\\" position\\\" is : {Ahmad[position]}\")"
   ]
  },
  {
   "cell_type": "markdown",
   "id": "2d07c7ce",
   "metadata": {},
   "source": [
    "# LOOPS "
   ]
  },
  {
   "cell_type": "markdown",
   "id": "57607e4d",
   "metadata": {},
   "source": [
    "## For Loop"
   ]
  },
  {
   "cell_type": "code",
   "execution_count": 92,
   "id": "ce35e53a",
   "metadata": {},
   "outputs": [
    {
     "name": "stdout",
     "output_type": "stream",
     "text": [
      "H--i-- --g--e--t-- --m--e-- --a-- --b--u--r--g--e--r--"
     ]
    }
   ],
   "source": [
    "st=\"Hi get me a burger\"\n",
    "for i in st:\n",
    "    print(i,end=\"--\")"
   ]
  },
  {
   "cell_type": "code",
   "execution_count": 52,
   "id": "26fdb4d4",
   "metadata": {},
   "outputs": [],
   "source": [
    "# Exercise"
   ]
  },
  {
   "cell_type": "code",
   "execution_count": 53,
   "id": "76864ff1",
   "metadata": {},
   "outputs": [],
   "source": [
    "# Hey there you are a programmer at the natipna; investigations and you got a sipher\n",
    "\n",
    "\n",
    "sipher = \"75jxc5x1x2kh75h\"\n",
    "decripter = {\"7\":\"G\",\n",
    "            \"5\":\"E\",\n",
    "            \"j\":\"T\",\n",
    "            \"x\":\" \",\n",
    "            \"c\":\"M\",\n",
    "            \"1\":\"A\",\n",
    "            \"2\":\"B\",\n",
    "            \"k\":\"U\",\n",
    "            \"h\":\"R\"}\n",
    "\n",
    "decripted_message=[]\n",
    "for i in sipher:\n",
    "    decripted_message.append(decripter[i])\n",
    "    "
   ]
  },
  {
   "cell_type": "code",
   "execution_count": 54,
   "id": "0a59d9e3",
   "metadata": {},
   "outputs": [
    {
     "data": {
      "text/plain": [
       "['G', 'E', 'T', ' ', 'M', 'E', ' ', 'A', ' ', 'B', 'U', 'R', 'G', 'E', 'R']"
      ]
     },
     "execution_count": 54,
     "metadata": {},
     "output_type": "execute_result"
    }
   ],
   "source": [
    "decripted_message"
   ]
  },
  {
   "cell_type": "markdown",
   "id": "0bde210a",
   "metadata": {},
   "source": [
    "# EXERCISE "
   ]
  },
  {
   "cell_type": "code",
   "execution_count": 55,
   "id": "bd1fbee0",
   "metadata": {},
   "outputs": [],
   "source": [
    "# You have a string \n",
    "str=\"I am Abdul Hadi.I am a data_scientist\"\n",
    "# code for a loop that iter through the string above and append it to sparser \n",
    "sparser=[]\n",
    "for i in str:\n",
    "    sparser.append(i)\n"
   ]
  },
  {
   "cell_type": "code",
   "execution_count": 93,
   "id": "253ee463",
   "metadata": {},
   "outputs": [
    {
     "name": "stdout",
     "output_type": "stream",
     "text": [
      "['I', ' ', 'a', 'm', ' ', 'A', 'b', 'd', 'u', 'l', ' ', 'H', 'a', 'd', 'i', '.', 'I', ' ', 'a', 'm', ' ', 'a', ' ', 'd', 'a', 't', 'a', '_', 's', 'c', 'i', 'e', 'n', 't', 'i', 's', 't']\n"
     ]
    }
   ],
   "source": [
    "print(sparser)"
   ]
  },
  {
   "cell_type": "markdown",
   "id": "87f96ccb",
   "metadata": {},
   "source": [
    "# initating a string "
   ]
  },
  {
   "cell_type": "code",
   "execution_count": 94,
   "id": "4f80135c",
   "metadata": {},
   "outputs": [],
   "source": [
    "str_1=\"hadi is a goods boy\""
   ]
  },
  {
   "cell_type": "markdown",
   "id": "25fad143",
   "metadata": {},
   "source": [
    "###  slicing \"good\" out of the string \n",
    "\"\"\"\n",
    "we have to find the starting and ending position of good and the slice it out \n",
    "\n",
    "g is at position 11\n",
    "and last character \"d\" is at position 14\n",
    "\n",
    "the slice will be as follow \n",
    "\n",
    "str_1[11-1:14]\n",
    "remember we have to subtract 1 in the position of first  character or else it won't print the first character \n",
    "\"\"\""
   ]
  },
  {
   "cell_type": "code",
   "execution_count": 95,
   "id": "188dd255",
   "metadata": {},
   "outputs": [
    {
     "data": {
      "text/plain": [
       "'good'"
      ]
     },
     "execution_count": 95,
     "metadata": {},
     "output_type": "execute_result"
    }
   ],
   "source": [
    "str_1[10:14]"
   ]
  },
  {
   "cell_type": "markdown",
   "id": "8c771559",
   "metadata": {},
   "source": [
    "# Exercise"
   ]
  },
  {
   "cell_type": "code",
   "execution_count": 59,
   "id": "b33b5868",
   "metadata": {},
   "outputs": [
    {
     "data": {
      "text/plain": [
       "'hadi'"
      ]
     },
     "execution_count": 59,
     "metadata": {},
     "output_type": "execute_result"
    }
   ],
   "source": [
    "# slice out hadi from the string above \n",
    "str_1[0:4]"
   ]
  },
  {
   "cell_type": "code",
   "execution_count": 96,
   "id": "a80f3d6e",
   "metadata": {},
   "outputs": [
    {
     "name": "stdout",
     "output_type": "stream",
     "text": [
      "13--hola soy hadi--HOLA SOY HADI--Hola soy hadi--hola soy hadi--['hola', 'soy', 'hadi']--hello soy hadi\n"
     ]
    }
   ],
   "source": [
    " # initiate a string\n",
    "str_1=\"hola soy hadi\"\n",
    "\n",
    "#len()\n",
    "a=len(str_1)\n",
    "\n",
    "#lower\n",
    "b=str_1.lower()\n",
    "\n",
    "#upper()\n",
    "c=str_1.upper()\n",
    "\n",
    "#capitalize()\n",
    "d=str_1.capitalize()\n",
    "\n",
    "#strip() : it removes spaces on the right and the left side of the string  \n",
    "e=str_1.strip()\n",
    "\n",
    "# split()\n",
    "f=str_1.split(sep=\" \")\n",
    "\n",
    "#replace()\n",
    "g=str_1.replace(\"hola\",\"hello\")\n",
    "\n",
    "\n",
    "\n",
    "\n",
    "\n",
    "\n",
    "\n",
    "print(a,b,c,d,e,f,g,sep=\"--\")\n",
    "\n"
   ]
  },
  {
   "cell_type": "markdown",
   "id": "c36ff2da",
   "metadata": {},
   "source": [
    "# using in to find character in a string "
   ]
  },
  {
   "cell_type": "code",
   "execution_count": 61,
   "id": "315f1db0",
   "metadata": {},
   "outputs": [
    {
     "data": {
      "text/plain": [
       "True"
      ]
     },
     "execution_count": 61,
     "metadata": {},
     "output_type": "execute_result"
    }
   ],
   "source": [
    "\"h\" in str_1\n"
   ]
  },
  {
   "cell_type": "markdown",
   "id": "3c455499",
   "metadata": {},
   "source": [
    " it return true if h is present in the string str_1"
   ]
  },
  {
   "cell_type": "markdown",
   "id": "89787897",
   "metadata": {},
   "source": [
    "# List"
   ]
  },
  {
   "cell_type": "markdown",
   "id": "513d8944",
   "metadata": {},
   "source": [
    "list is a collection of data enclosed in square brckets [1,\"hadi\",\"@\",2]\n"
   ]
  },
  {
   "cell_type": "markdown",
   "id": "f75ed690",
   "metadata": {},
   "source": [
    "# initiating a list "
   ]
  },
  {
   "cell_type": "code",
   "execution_count": 62,
   "id": "8569629b",
   "metadata": {},
   "outputs": [],
   "source": [
    "list_1=[1,\"hadi\",\"@\",2]"
   ]
  },
  {
   "cell_type": "markdown",
   "id": "ed7433e3",
   "metadata": {},
   "source": [
    "# accessing elements in a list"
   ]
  },
  {
   "cell_type": "code",
   "execution_count": 63,
   "id": "d1c13d61",
   "metadata": {},
   "outputs": [
    {
     "name": "stdout",
     "output_type": "stream",
     "text": [
      "First: 1,second:hadi\n"
     ]
    }
   ],
   "source": [
    "print(f\"First: {list_1[0]},second:{list_1[1]}\")"
   ]
  },
  {
   "cell_type": "code",
   "execution_count": 64,
   "id": "bcf5143c",
   "metadata": {},
   "outputs": [],
   "source": [
    "# list in list\n",
    "\n",
    "\n",
    "list_2=[1,2,list_1]"
   ]
  },
  {
   "cell_type": "code",
   "execution_count": 65,
   "id": "9021eac8",
   "metadata": {},
   "outputs": [
    {
     "name": "stdout",
     "output_type": "stream",
     "text": [
      "[1, 2, [1, 'hadi', '@', 2]]\n"
     ]
    }
   ],
   "source": [
    "print(list_2)"
   ]
  },
  {
   "cell_type": "code",
   "execution_count": 97,
   "id": "81ae028e",
   "metadata": {},
   "outputs": [],
   "source": [
    "## accessing element in a list within list "
   ]
  },
  {
   "cell_type": "code",
   "execution_count": 98,
   "id": "4c8f021a",
   "metadata": {},
   "outputs": [
    {
     "ename": "TypeError",
     "evalue": "'int' object is not subscriptable",
     "output_type": "error",
     "traceback": [
      "\u001b[1;31m---------------------------------------------------------------------------\u001b[0m",
      "\u001b[1;31mTypeError\u001b[0m                                 Traceback (most recent call last)",
      "Cell \u001b[1;32mIn[98], line 1\u001b[0m\n\u001b[1;32m----> 1\u001b[0m \u001b[43mlist_2\u001b[49m\u001b[43m[\u001b[49m\u001b[38;5;241;43m2\u001b[39;49m\u001b[43m]\u001b[49m\u001b[43m[\u001b[49m\u001b[38;5;241;43m0\u001b[39;49m\u001b[43m]\u001b[49m\n",
      "\u001b[1;31mTypeError\u001b[0m: 'int' object is not subscriptable"
     ]
    }
   ],
   "source": [
    "list_2[2][0]"
   ]
  },
  {
   "cell_type": "markdown",
   "id": "ab1f1be2",
   "metadata": {},
   "source": [
    "# exercise "
   ]
  },
  {
   "cell_type": "code",
   "execution_count": null,
   "id": "01aba0e8",
   "metadata": {},
   "outputs": [],
   "source": [
    "# print the last element of list_1 in list_2 using indexing \n",
    "\n",
    "\"\"\"code here \"\"\""
   ]
  },
  {
   "cell_type": "code",
   "execution_count": 99,
   "id": "800d34c6",
   "metadata": {},
   "outputs": [],
   "source": [
    "list_1=[1,2,3,\"salim\",\"hadi\"]"
   ]
  },
  {
   "cell_type": "code",
   "execution_count": 100,
   "id": "aa27055e",
   "metadata": {},
   "outputs": [
    {
     "name": "stdout",
     "output_type": "stream",
     "text": [
      "[1, 2, 3, 'salim', 'hadi', 0]\n"
     ]
    }
   ],
   "source": [
    "# Append function in list \n",
    "list_1.append(0)\n",
    "print (list_1)"
   ]
  },
  {
   "cell_type": "markdown",
   "id": "8f307424",
   "metadata": {},
   "source": [
    "append function is used to add an element to end of a list \n",
    "Function : function is a tool that is used to do something here append function is used to add something in a list "
   ]
  },
  {
   "cell_type": "code",
   "execution_count": 101,
   "id": "745d3641",
   "metadata": {},
   "outputs": [],
   "source": [
    "# clear function\n",
    "list_1.clear()"
   ]
  },
  {
   "cell_type": "markdown",
   "id": "66a349aa",
   "metadata": {},
   "source": [
    "clear function clears all elements in a list "
   ]
  },
  {
   "cell_type": "code",
   "execution_count": 102,
   "id": "32b52e5b",
   "metadata": {},
   "outputs": [
    {
     "data": {
      "text/plain": [
       "[]"
      ]
     },
     "execution_count": 102,
     "metadata": {},
     "output_type": "execute_result"
    }
   ],
   "source": [
    "list_1"
   ]
  },
  {
   "cell_type": "markdown",
   "id": "7b3e59d2",
   "metadata": {},
   "source": [
    "# Shallow copy "
   ]
  },
  {
   "cell_type": "code",
   "execution_count": 103,
   "id": "8f13d2c5",
   "metadata": {},
   "outputs": [],
   "source": [
    "# initiating list_1 again as all the elements are clear \n",
    "list_1=[1,2,3,\"salim\",\"hadi\"]"
   ]
  },
  {
   "cell_type": "code",
   "execution_count": 74,
   "id": "a71f9d2d",
   "metadata": {},
   "outputs": [],
   "source": [
    "# copy function \n",
    "list_2=list_1.copy()"
   ]
  },
  {
   "cell_type": "code",
   "execution_count": 75,
   "id": "9073769a",
   "metadata": {},
   "outputs": [
    {
     "name": "stdout",
     "output_type": "stream",
     "text": [
      "[1, 2, 3, 'salim', 'hadi']\n"
     ]
    }
   ],
   "source": [
    "print(list_2)"
   ]
  },
  {
   "cell_type": "code",
   "execution_count": 76,
   "id": "b938dafc",
   "metadata": {},
   "outputs": [
    {
     "name": "stdout",
     "output_type": "stream",
     "text": [
      "[1, 2, 3, 'salim', 'hadi']\n"
     ]
    }
   ],
   "source": [
    "print(list_1)"
   ]
  },
  {
   "cell_type": "code",
   "execution_count": 77,
   "id": "474b95de",
   "metadata": {},
   "outputs": [],
   "source": [
    "list_2.append(0)"
   ]
  },
  {
   "cell_type": "code",
   "execution_count": 104,
   "id": "0c1490fc",
   "metadata": {},
   "outputs": [
    {
     "name": "stdout",
     "output_type": "stream",
     "text": [
      "[1, 2, 3, 'salim', 'hadi', 0]\n"
     ]
    },
    {
     "data": {
      "text/plain": [
       "(None, [1, 2, 3, 'salim', 'hadi'])"
      ]
     },
     "execution_count": 104,
     "metadata": {},
     "output_type": "execute_result"
    }
   ],
   "source": [
    "print(list_2),(list_1)"
   ]
  },
  {
   "cell_type": "markdown",
   "id": "37751db7",
   "metadata": {},
   "source": [
    "# Deep copy"
   ]
  },
  {
   "cell_type": "markdown",
   "id": "68fb1589",
   "metadata": {},
   "source": [
    "It creates shallow copy of the list "
   ]
  },
  {
   "cell_type": "code",
   "execution_count": 105,
   "id": "c5fe2d17",
   "metadata": {},
   "outputs": [
    {
     "name": "stdout",
     "output_type": "stream",
     "text": [
      "[1, 2, 3, 'salim', 'hadi']\n"
     ]
    }
   ],
   "source": [
    "list_3=list_1\n",
    "print(list_3)"
   ]
  },
  {
   "cell_type": "code",
   "execution_count": 106,
   "id": "7649b93a",
   "metadata": {},
   "outputs": [
    {
     "name": "stdout",
     "output_type": "stream",
     "text": [
      "[1, 2, 3, 'salim', 'hadi']\n"
     ]
    }
   ],
   "source": [
    "print(list_1)"
   ]
  },
  {
   "cell_type": "code",
   "execution_count": 107,
   "id": "6215c470",
   "metadata": {},
   "outputs": [
    {
     "name": "stdout",
     "output_type": "stream",
     "text": [
      "[1, 2, 3, 'salim', 'hadi', 0]\n"
     ]
    }
   ],
   "source": [
    "list_3.append(0)\n",
    "print(list_3)"
   ]
  },
  {
   "cell_type": "code",
   "execution_count": 108,
   "id": "31296bbe",
   "metadata": {},
   "outputs": [
    {
     "name": "stdout",
     "output_type": "stream",
     "text": [
      "[1, 2, 3, 'salim', 'hadi', 0]\n"
     ]
    }
   ],
   "source": [
    "print(list_1)"
   ]
  },
  {
   "cell_type": "markdown",
   "id": "70410377",
   "metadata": {},
   "source": [
    "woww this is called deep copy "
   ]
  },
  {
   "cell_type": "code",
   "execution_count": 109,
   "id": "bef813d8",
   "metadata": {},
   "outputs": [
    {
     "data": {
      "text/plain": [
       "1"
      ]
     },
     "execution_count": 109,
     "metadata": {},
     "output_type": "execute_result"
    }
   ],
   "source": [
    "# count function \n",
    "list_1.count(2)"
   ]
  },
  {
   "cell_type": "markdown",
   "id": "0bec80a6",
   "metadata": {},
   "source": [
    "It will count how many times the arguemwnt occur \n",
    "arguement :the input given to function is called an arguement "
   ]
  },
  {
   "cell_type": "code",
   "execution_count": 112,
   "id": "bc8834ed",
   "metadata": {},
   "outputs": [
    {
     "data": {
      "text/plain": [
       "2"
      ]
     },
     "execution_count": 112,
     "metadata": {},
     "output_type": "execute_result"
    }
   ],
   "source": [
    "list_4=[1,2,3,2,1]\n",
    "list_4.count(2)"
   ]
  },
  {
   "cell_type": "markdown",
   "id": "1b79ebe4",
   "metadata": {},
   "source": [
    "# Append function "
   ]
  },
  {
   "cell_type": "code",
   "execution_count": 114,
   "id": "28a80c78",
   "metadata": {},
   "outputs": [
    {
     "name": "stdout",
     "output_type": "stream",
     "text": [
      "['1,3,4,6,@,$,$,%', 0]\n"
     ]
    }
   ],
   "source": [
    "list_1=[\"1,3,4,6,@,$,$,%\"]\n",
    "list_1.append (0)\n",
    "print(list_1)"
   ]
  },
  {
   "cell_type": "markdown",
   "id": "01bcd125",
   "metadata": {},
   "source": [
    "append function is used to add an elements to end of a list "
   ]
  },
  {
   "cell_type": "markdown",
   "id": "7eb81fd1",
   "metadata": {},
   "source": [
    "# clear function"
   ]
  },
  {
   "cell_type": "markdown",
   "id": "6b039903",
   "metadata": {},
   "source": [
    "it clear all lines of code "
   ]
  },
  {
   "cell_type": "code",
   "execution_count": 116,
   "id": "d9c6816d",
   "metadata": {},
   "outputs": [
    {
     "name": "stdout",
     "output_type": "stream",
     "text": [
      "None\n"
     ]
    }
   ],
   "source": [
    "# clear function\n",
    "print(list_1.clear())"
   ]
  },
  {
   "cell_type": "markdown",
   "id": "424a7a2f",
   "metadata": {},
   "source": [
    "# dictionaries"
   ]
  },
  {
   "cell_type": "raw",
   "id": "8f7e0dd8",
   "metadata": {},
   "source": [
    "are dictionaries mutable or nor?\n",
    "it is a colletion of data such that values are store in corresponding keys in carlie brackets \n"
   ]
  },
  {
   "cell_type": "markdown",
   "id": "214f9217",
   "metadata": {},
   "source": [
    "\"dictionaries are mutuable whereas stings are not (means we can modify the elements)\""
   ]
  },
  {
   "cell_type": "code",
   "execution_count": 130,
   "id": "dc64d72c",
   "metadata": {},
   "outputs": [],
   "source": [
    "# dictionaries \n",
    "dict_1={\n",
    "    \"ali\":2*3,\n",
    "    \"basit\":0,\n",
    "    \"salim\":1000,\n",
    "    \"hadi\":\"u\"\n",
    "}"
   ]
  },
  {
   "cell_type": "code",
   "execution_count": 131,
   "id": "ea3506c6",
   "metadata": {},
   "outputs": [
    {
     "data": {
      "text/plain": [
       "6"
      ]
     },
     "execution_count": 131,
     "metadata": {},
     "output_type": "execute_result"
    }
   ],
   "source": [
    "dict_1[\"ali\"]"
   ]
  },
  {
   "cell_type": "code",
   "execution_count": 132,
   "id": "f07a07c5",
   "metadata": {},
   "outputs": [
    {
     "data": {
      "text/plain": [
       "0"
      ]
     },
     "execution_count": 132,
     "metadata": {},
     "output_type": "execute_result"
    }
   ],
   "source": [
    "dict_1[\"basit\"]"
   ]
  },
  {
   "cell_type": "code",
   "execution_count": 133,
   "id": "69581d03",
   "metadata": {},
   "outputs": [
    {
     "data": {
      "text/plain": [
       "1000"
      ]
     },
     "execution_count": 133,
     "metadata": {},
     "output_type": "execute_result"
    }
   ],
   "source": [
    "dict_1[\"salim\"]"
   ]
  },
  {
   "cell_type": "code",
   "execution_count": 134,
   "id": "bcfbe0b4",
   "metadata": {},
   "outputs": [
    {
     "data": {
      "text/plain": [
       "'u'"
      ]
     },
     "execution_count": 134,
     "metadata": {},
     "output_type": "execute_result"
    }
   ],
   "source": [
    "dict_1[\"hadi\"]"
   ]
  },
  {
   "cell_type": "code",
   "execution_count": 135,
   "id": "91656c13",
   "metadata": {},
   "outputs": [
    {
     "data": {
      "text/plain": [
       "6000"
      ]
     },
     "execution_count": 135,
     "metadata": {},
     "output_type": "execute_result"
    }
   ],
   "source": [
    "dict_1[\"ali\"]*dict_1[\"salim\"]"
   ]
  },
  {
   "cell_type": "code",
   "execution_count": 136,
   "id": "7afb8af4",
   "metadata": {},
   "outputs": [
    {
     "data": {
      "text/plain": [
       "0.006"
      ]
     },
     "execution_count": 136,
     "metadata": {},
     "output_type": "execute_result"
    }
   ],
   "source": [
    "dict_1[\"ali\"]/dict_1[\"salim\"]"
   ]
  },
  {
   "cell_type": "code",
   "execution_count": 137,
   "id": "65585978",
   "metadata": {},
   "outputs": [
    {
     "data": {
      "text/plain": [
       "0"
      ]
     },
     "execution_count": 137,
     "metadata": {},
     "output_type": "execute_result"
    }
   ],
   "source": [
    "dict_1[\"ali\"]//dict_1[\"salim\"]"
   ]
  },
  {
   "cell_type": "code",
   "execution_count": 138,
   "id": "a7ce7aaf",
   "metadata": {},
   "outputs": [
    {
     "data": {
      "text/plain": [
       "14166102623834861723796252524915224416640471830910191322323547432140618947596486436347661333869287260068907949302029484915942402681211620694598046617844295512220793103312980549591537160959053027940624117598003417503015722697428176155600362263128567590299511776686592862074376328232990325101248680123776914576482815095784568122986221890411837737570098864613342090972756469661488216176894465388028416768338495326989675118087222767384596111351304957869025273802978281783731929966468210579229830069556698928937342508988340792335737744719376598506908977135291983117722648269177947154657697517074993441515526839887073400191797445153760221695723268255006134044062503100710134200414607696976757837002911389023284338696251543694980946202137938610119300450795091488653253649628649410789376"
      ]
     },
     "execution_count": 138,
     "metadata": {},
     "output_type": "execute_result"
    }
   ],
   "source": [
    "dict_1[\"ali\"]**dict_1[\"salim\"]"
   ]
  },
  {
   "cell_type": "code",
   "execution_count": 139,
   "id": "1f50a492",
   "metadata": {},
   "outputs": [
    {
     "data": {
      "text/plain": [
       "6"
      ]
     },
     "execution_count": 139,
     "metadata": {},
     "output_type": "execute_result"
    }
   ],
   "source": [
    "dict_1[\"ali\"]%dict_1[\"salim\"]"
   ]
  },
  {
   "cell_type": "code",
   "execution_count": 140,
   "id": "18c43d16",
   "metadata": {},
   "outputs": [
    {
     "name": "stdout",
     "output_type": "stream",
     "text": [
      "6\n"
     ]
    }
   ],
   "source": [
    "print(dict_1[\"ali\"])"
   ]
  },
  {
   "cell_type": "markdown",
   "id": "aa63c6d2",
   "metadata": {},
   "source": [
    "# project_1\n",
    "we got an excel file from our client named abdul hadi\n",
    "subject wanted a python script that returns the requested records from the excel file \n",
    "\n",
    "** what we will be doing ** \n",
    "1) making sure that book1.xlms files is present int the directory that contain our intro to pythin notebook \n",
    "2) we will load in the data using pandas data frame \n",
    "3) we will analyze the  data\n",
    "4) we will code to fetch the specific records \n",
    "5) we will export the results to result.xlms file for the client \n",
    ":) lets code "
   ]
  },
  {
   "cell_type": "markdown",
   "id": "639c0cf0",
   "metadata": {},
   "source": [
    "# importing the required libraries "
   ]
  },
  {
   "cell_type": "code",
   "execution_count": 2,
   "id": "2e9d983a",
   "metadata": {},
   "outputs": [],
   "source": [
    "import pandas as pd #importing pandas library with the substitute name pd \n",
    "import numpy as np #importing numpy library with the  substitude name np "
   ]
  },
  {
   "cell_type": "code",
   "execution_count": 4,
   "id": "f0b7bd35",
   "metadata": {},
   "outputs": [],
   "source": [
    "x=pd.read_excel(\"book1.xlsx\")"
   ]
  },
  {
   "cell_type": "code",
   "execution_count": null,
   "id": "43bfcb8e",
   "metadata": {},
   "outputs": [],
   "source": []
  },
  {
   "cell_type": "code",
   "execution_count": 13,
   "id": "e2edf1a4",
   "metadata": {},
   "outputs": [],
   "source": [
    "class car():\n",
    "    def __init__(self,carmodel,carcolour,price):\n",
    "        self.carmodel=carmodel\n",
    "        self.carcolour=carcolour \n",
    "        self.price=price"
   ]
  },
  {
   "cell_type": "code",
   "execution_count": 14,
   "id": "2a912a88",
   "metadata": {},
   "outputs": [],
   "source": [
    "car1=car(\"corolla\",\"black\",200000)"
   ]
  },
  {
   "cell_type": "code",
   "execution_count": 16,
   "id": "3a5fec16",
   "metadata": {},
   "outputs": [
    {
     "data": {
      "text/plain": [
       "'corolla'"
      ]
     },
     "execution_count": 16,
     "metadata": {},
     "output_type": "execute_result"
    }
   ],
   "source": [
    "car1.carmodel\n",
    "\n"
   ]
  },
  {
   "cell_type": "code",
   "execution_count": null,
   "id": "78a073ec",
   "metadata": {},
   "outputs": [],
   "source": []
  }
 ],
 "metadata": {
  "kernelspec": {
   "display_name": "Python 3 (ipykernel)",
   "language": "python",
   "name": "python3"
  },
  "language_info": {
   "codemirror_mode": {
    "name": "ipython",
    "version": 3
   },
   "file_extension": ".py",
   "mimetype": "text/x-python",
   "name": "python",
   "nbconvert_exporter": "python",
   "pygments_lexer": "ipython3",
   "version": "3.10.8"
  }
 },
 "nbformat": 4,
 "nbformat_minor": 5
}
